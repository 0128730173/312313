{
 "cells": [
  {
   "cell_type": "markdown",
   "metadata": {},
   "source": [
    "### Empirical validation of the paper: Simulation of Graph Algorithms with Looped Transformers [ICML2024] "
   ]
  },
  {
   "cell_type": "code",
   "execution_count": 1,
   "metadata": {},
   "outputs": [],
   "source": [
    "# for compatibility with CLRS, we advise using Python 3.9 or later\n",
    "# install required packages (only need to run once)\n",
    "#!pip install -e .\n",
    "\n",
    "import clrs\n",
    "from ltfs.utils import evaluate_clrs\n",
    "\n",
    "timeout = 1200 # 20 minutes"
   ]
  },
  {
   "cell_type": "markdown",
   "metadata": {},
   "source": [
    "### Dijkstra's Shortest Path Algorithm"
   ]
  },
  {
   "cell_type": "code",
   "execution_count": 2,
   "metadata": {},
   "outputs": [
    {
     "name": "stdout",
     "output_type": "stream",
     "text": [
      "Dijkstra's algorithm\n",
      "\n",
      "Loading data...\n",
      "Loading data complete\n",
      "\n",
      "Train\n",
      "(1000) | acc: 1.0 | (C/I/E): 1000/0/0\n",
      "\n",
      "Validation\n",
      "(32) | acc: 1.0 | (C/I/E): 32/0/0\n",
      "\n",
      "Test\n",
      "(32) | acc: 1.0 | (C/I/E): 32/0/0\n"
     ]
    }
   ],
   "source": [
    "from ltfs.multitask import Model\n",
    "from ltfs.multitask.input import build_input\n",
    "\n",
    "print(\"Dijkstra's algorithm\")\n",
    "print(\"\\nLoading data...\")\n",
    "train_set, _, _ = clrs.create_dataset(folder=\"./data/CLRS30\", algorithm=\"dijkstra\", split=\"train\", batch_size=1000)\n",
    "val_set, _, _ = clrs.create_dataset(folder=\"./data/CLRS30\", algorithm=\"dijkstra\", split=\"val\", batch_size=32)\n",
    "test_set, _, _ = clrs.create_dataset(folder=\"./data/CLRS30\", algorithm=\"dijkstra\", split=\"test\", batch_size=32)\n",
    "print(\"Loading data complete\")\n",
    "\n",
    "X, index = build_input(2, 1)\n",
    "model = Model(X.shape[1], 2, index, False)\n",
    "\n",
    "print(\"\\nTrain\")\n",
    "evaluate_clrs(model, train_set, build_input, timeout)\n",
    "\n",
    "print(\"\\nValidation\")\n",
    "evaluate_clrs(model, val_set, build_input, timeout)\n",
    "\n",
    "print(\"\\nTest\")\n",
    "evaluate_clrs(model, test_set, build_input, timeout);\n",
    "# Results : (Correct/Incorrect/Exception)"
   ]
  },
  {
   "cell_type": "markdown",
   "metadata": {},
   "source": [
    "### Breadth-First Search"
   ]
  },
  {
   "cell_type": "code",
   "execution_count": 3,
   "metadata": {},
   "outputs": [
    {
     "name": "stdout",
     "output_type": "stream",
     "text": [
      "Breadth-First Search (BFS)\n",
      "\n",
      "Loading data...\n",
      "Loading data complete\n",
      "\n",
      "Train\n",
      "(1000) | acc: 1.0 | (C/I/E): 1000/0/0\n",
      "\n",
      "Validation\n",
      "(32) | acc: 1.0 | (C/I/E): 32/0/0\n",
      "\n",
      "Test\n",
      "(32) | acc: 1.0 | (C/I/E): 32/0/0\n"
     ]
    }
   ],
   "source": [
    "print(\"Breadth-First Search (BFS)\")\n",
    "print(\"\\nLoading data...\")\n",
    "train_set, _, _ = clrs.create_dataset(folder=\"./data/CLRS30\", algorithm=\"bfs\", split=\"train\", batch_size=1000)\n",
    "val_set, _, _ = clrs.create_dataset(folder=\"./data/CLRS30\", algorithm=\"bfs\", split=\"val\", batch_size=32)\n",
    "test_set, _, _ = clrs.create_dataset(folder=\"./data/CLRS30\", algorithm=\"bfs\", split=\"test\", batch_size=32)\n",
    "print(\"Loading data complete\")\n",
    "\n",
    "X, index = build_input(2, 1)\n",
    "model = Model(X.shape[1], 2, index, False)\n",
    "\n",
    "print(\"\\nTrain\")\n",
    "evaluate_clrs(model, train_set, build_input, timeout)\n",
    "\n",
    "print(\"\\nValidation\")\n",
    "evaluate_clrs(model, val_set, build_input, timeout)\n",
    "\n",
    "print(\"\\nTest\")\n",
    "evaluate_clrs(model, test_set, build_input, timeout);\n",
    "# Results : (Correct/Incorrect/Exception)"
   ]
  },
  {
   "cell_type": "markdown",
   "metadata": {},
   "source": [
    "### Depth-First Search (DFS)"
   ]
  },
  {
   "cell_type": "code",
   "execution_count": 4,
   "metadata": {},
   "outputs": [
    {
     "name": "stdout",
     "output_type": "stream",
     "text": [
      "Depth-First Search (DFS)\n",
      "\n",
      "Loading data...\n",
      "Loading data complete\n",
      "\n",
      "Train\n",
      "(1000) | acc: 1.0 | (C/I/E): 1000/0/0\n",
      "\n",
      "Validation\n",
      "(32) | acc: 1.0 | (C/I/E): 32/0/0\n",
      "\n",
      "Test\n",
      "(32) | acc: 1.0 | (C/I/E): 32/0/0\n"
     ]
    }
   ],
   "source": [
    "print(\"Depth-First Search (DFS)\")\n",
    "print(\"\\nLoading data...\")\n",
    "train_set, _, _ = clrs.create_dataset(folder=\"./data/CLRS30\", algorithm=\"dfs\", split=\"train\", batch_size=1000)\n",
    "val_set, _, _ = clrs.create_dataset(folder=\"./data/CLRS30\", algorithm=\"dfs\", split=\"val\", batch_size=32)\n",
    "test_set, _, _ = clrs.create_dataset(folder=\"./data/CLRS30\", algorithm=\"dfs\", split=\"test\", batch_size=32)\n",
    "print(\"Loading data complete\")\n",
    "\n",
    "X, index = build_input(2, 1)\n",
    "model = Model(X.shape[1], 2, index, False)\n",
    "dfs_input = lambda X, index: build_input(X, index, True)\n",
    "\n",
    "print(\"\\nTrain\")\n",
    "evaluate_clrs(model, train_set, dfs_input, timeout)\n",
    "\n",
    "print(\"\\nValidation\")\n",
    "evaluate_clrs(model, val_set, dfs_input, timeout)\n",
    "\n",
    "print(\"\\nTest\")\n",
    "evaluate_clrs(model, test_set, dfs_input, timeout);\n",
    "# Results : (Correct/Incorrect/Exception)"
   ]
  }
 ],
 "metadata": {
  "kernelspec": {
   "display_name": "icml",
   "language": "python",
   "name": "python3"
  },
  "language_info": {
   "codemirror_mode": {
    "name": "ipython",
    "version": 3
   },
   "file_extension": ".py",
   "mimetype": "text/x-python",
   "name": "python",
   "nbconvert_exporter": "python",
   "pygments_lexer": "ipython3",
   "version": "3.11.4"
  }
 },
 "nbformat": 4,
 "nbformat_minor": 2
}
